{
 "cells": [
  {
   "metadata": {},
   "cell_type": "code",
   "outputs": [],
   "execution_count": null,
   "source": [
    "import numpy as np\n",
    "import cv2\n",
    "import glob\n",
    "\n",
    "#Create function to load and rescale to 128x128 and greyscale\n",
    "def load_img(path):\n",
    "    img = cv2.imread(path, cv2.IMREAD_GRAYSCALE).astype(np.uint8)\n",
    "    img = np.reshape(img, (128, 128))\n",
    "    return img\n",
    "\n",
    "# Create function to load the data\n",
    "# [0] is the label // [1] is the image itself\n",
    "def load_dataset(path):\n",
    "    dataset = [(int(img_path[-6]), load_img(img_path)) for img_path in glob.glob(path)]\n",
    "    return dataset"
   ],
   "id": "c33672e3b786e95d"
  }
 ],
 "metadata": {},
 "nbformat": 5,
 "nbformat_minor": 9
}
